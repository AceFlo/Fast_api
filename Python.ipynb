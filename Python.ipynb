{
  "cells": [
    {
      "cell_type": "markdown",
      "metadata": {
        "id": "view-in-github",
        "colab_type": "text"
      },
      "source": [
        "<a href=\"https://colab.research.google.com/github/AceFlo/Fast_api/blob/main/Python.ipynb\" target=\"_parent\"><img src=\"https://colab.research.google.com/assets/colab-badge.svg\" alt=\"Open In Colab\"/></a>"
      ]
    },
    {
      "cell_type": "markdown",
      "source": [],
      "metadata": {
        "id": "jcTMYP2z1jTS"
      }
    },
    {
      "cell_type": "markdown",
      "source": [],
      "metadata": {
        "id": "CyFKB5yA8M3D"
      }
    },
    {
      "cell_type": "code",
      "source": [
        "#STRING\n",
        "print(\"STRING\\n\")\n",
        "print(\"Usama\")\n",
        "print(\"He is called 'Usama'\")\n",
        "print('He is called \"Malik\"\\n')\n",
        "\n",
        "#Boolean\n",
        "print(\"BOOLEAN\\n\")\n",
        "a = 200\n",
        "b = 33\n",
        "\n",
        "if a > b:\n",
        "  print(\"a is greater than b\\n\")\n",
        "else:\n",
        "  print(\"a is not greater than b \\n\")\n",
        "\n",
        "#OPERATORS\n",
        "print(\"OPERATORS\\n\")\n",
        "print(1 + 4)\n",
        "print(2 - 5)\n",
        "print(4 / 6)\n",
        "print(2 * 2)\n",
        "print(\"\\n\")\n",
        "\n",
        "\n",
        "#Printing LIST by index\n",
        "print(\"Calling list by Index\\n\")\n",
        "mylist = [\"apple\", \"banana\", \"cherry\"]\n",
        "print(mylist)\n",
        "print(mylist[1])\n",
        "print(\"\\n\")\n",
        "\n",
        "#Adding items in list\n",
        "\n",
        "mylist.append(\"Mango\")\n",
        "print(mylist)\n",
        "print(*mylist)\n",
        "print(\"\\n\")\n",
        "\n",
        "#Removing items from list\n",
        "\n",
        "mylist.remove(\"apple\")\n",
        "print(mylist)\n",
        "print(*mylist)\n",
        "print(\"\\n\")\n",
        "#Looping in list\n",
        "\n",
        "for fruits in mylist:\n",
        "  print(fruits)\n",
        "print(\"\\n\")\n",
        "\n",
        "newlist = []\n",
        "for fruits in mylist:\n",
        "  if 'r' in fruits:\n",
        "    print(fruits)\n",
        "\n",
        "arr = {1,2,3,4}\n",
        "bubblesort.arr\n"
      ],
      "metadata": {
        "colab": {
          "base_uri": "https://localhost:8080/"
        },
        "id": "IUAwh7Ae8NIL",
        "outputId": "20de176c-dd9f-4d51-af7c-f3001228d422"
      },
      "execution_count": 41,
      "outputs": [
        {
          "output_type": "stream",
          "name": "stdout",
          "text": [
            "STRING\n",
            "\n",
            "Usama\n",
            "He is called 'Usama'\n",
            "He is called \"Malik\"\n",
            "\n",
            "BOOLEAN\n",
            "\n",
            "a is greater than b\n",
            "\n",
            "OPERATORS\n",
            "\n",
            "5\n",
            "-3\n",
            "0.6666666666666666\n",
            "4\n",
            "\n",
            "\n",
            "Calling list by Index\n",
            "\n",
            "['apple', 'banana', 'cherry']\n",
            "banana\n",
            "\n",
            "\n",
            "['apple', 'banana', 'cherry', 'Mango']\n",
            "apple banana cherry Mango\n",
            "\n",
            "\n",
            "['banana', 'cherry', 'Mango']\n",
            "banana cherry Mango\n",
            "\n",
            "\n",
            "banana\n",
            "cherry\n",
            "Mango\n",
            "\n",
            "\n",
            "cherry\n"
          ]
        }
      ]
    }
  ],
  "metadata": {
    "colab": {
      "name": "Welcome To Colab",
      "provenance": [],
      "include_colab_link": true
    },
    "kernelspec": {
      "display_name": "Python 3",
      "name": "python3"
    }
  },
  "nbformat": 4,
  "nbformat_minor": 0
}